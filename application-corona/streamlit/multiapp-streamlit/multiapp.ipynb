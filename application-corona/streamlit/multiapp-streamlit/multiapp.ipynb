{
 "cells": [
  {
   "cell_type": "code",
   "execution_count": 65,
   "id": "0293d8fd-44d6-417e-969e-128fde8db512",
   "metadata": {},
   "outputs": [
    {
     "name": "stdout",
     "output_type": "stream",
     "text": [
      "Overwriting app.py\n"
     ]
    }
   ],
   "source": [
    "%%writefile app.py\n",
    "\n",
    "import os\n",
    "import streamlit as st\n",
    "import numpy as np\n",
    "from PIL import  Image\n",
    "\n",
    "from multipage import MultiPage\n",
    "from pages import upload, compare, inspect, alignment, info, heatmap\n",
    "\n",
    "app = MultiPage()\n",
    "\n",
    "# Main page\n",
    "img = 'corona.png'\n",
    "display = Image.open(img)\n",
    "col1, col2 = st.columns(2)\n",
    "col1.image(display, width = 200)\n",
    "col2.title('Corona viz')\n",
    "\n",
    "app.add_page('Upload Data', upload.app)\n",
    "app.add_page('Compare against corona lineages', compare.app)\n",
    "app.add_page('Inspect mutations', inspect.app)\n",
    "app.add_page('Alignment information', alignment.app)\n",
    "app.add_page('Sequence information', info.app)\n",
    "app.add_page('Heatmap', heatmap.app)\n",
    "\n",
    "\n",
    "app.run()\n",
    "\n",
    "\n"
   ]
  },
  {
   "cell_type": "code",
   "execution_count": 120,
   "id": "cc811d2f-a71b-4433-9ad4-3e196f9cbda0",
   "metadata": {},
   "outputs": [
    {
     "name": "stdout",
     "output_type": "stream",
     "text": [
      "Overwriting multipage.py\n"
     ]
    }
   ],
   "source": [
    "%%writefile multipage.py\n",
    "import streamlit as st\n",
    "\n",
    "class MultiPage: \n",
    "    def __init__(self) -> None:\n",
    "        self.pages = []\n",
    "    \n",
    "    def add_page(self, title, func) -> None: \n",
    "        self.pages.append({\"title\": title, \"function\": func})\n",
    "\n",
    "    def run(self):\n",
    "        page = st.sidebar.selectbox('Navigation', self.pages, format_func=lambda page: page['title'])\n",
    "        page['function']()\n"
   ]
  },
  {
   "cell_type": "code",
   "execution_count": 251,
   "id": "9ae5f23d-7cc7-459f-83e5-3e0a8b8123a7",
   "metadata": {},
   "outputs": [
    {
     "name": "stdout",
     "output_type": "stream",
     "text": [
      "Overwriting pages/compare.py\n"
     ]
    }
   ],
   "source": [
    "%%writefile pages/compare.py\n",
    "import streamlit as st\n",
    "import altair as alt\n",
    "from corona_viz.plotting import CoronaPlot\n",
    "from corona_viz.nextclade import Nextclade\n",
    "\n",
    "def app():\n",
    "    nextclade = Nextclade()\n",
    "    corona = CoronaPlot(nextclade.QUERY, nextclade.REF, 'mutations.csv')\n",
    "    df = nextclade.make_meta_df()\n",
    "    pango_line = df.Nextclade_pango.values[0]\n",
    "    clade = df.clade.values[0]\n",
    "    df = nextclade.make_meta_df()\n",
    "    name = df.seqName.values[0]\n",
    "\n",
    "    st.markdown(f'##### Compare {name} to other lineages')\n",
    "    st.markdown(f'**Predicted pangolin and clade:** {pango_line} | {clade}')\n",
    "    compare_to = corona.dataframes.make_mutations_df()\n",
    "    pango = st.selectbox('Select pango lineage to compare with', sorted(compare_to['pango'].unique()))\n",
    "    compare_plot = corona.plot_compare(pango)\n",
    "    st.altair_chart(compare_plot)\n",
    "    "
   ]
  },
  {
   "cell_type": "code",
   "execution_count": 39,
   "id": "d5ae79ca-3335-46e6-8073-d3b6a5fe0352",
   "metadata": {},
   "outputs": [
    {
     "name": "stdout",
     "output_type": "stream",
     "text": [
      "Overwriting pages/upload.py\n"
     ]
    }
   ],
   "source": [
    "%%writefile pages/upload.py\n",
    "import streamlit as st\n",
    "from corona_viz.nextclade import Nextclade\n",
    "\n",
    "def app():\n",
    "    st.title('Upload file')\n",
    "    fasta = st.file_uploader(\"FASTA file to run Nextclade on\")\n",
    "    if fasta is not None:\n",
    "        st.markdown('#### Running Nextclade on the fasta file... Please wait a second.')\n",
    "        with open('input.fasta', 'w+') as f:\n",
    "            print(fasta.read().decode(), file=f)\n",
    "            \n",
    "        nextclade = Nextclade()\n",
    "        nextclade.run_nextclade()\n",
    "        st.markdown('##### Nextclade done!')\n",
    "        #nextclade.make_meta_df()\n",
    "        #st.write(nextclade.meta_df)\n"
   ]
  },
  {
   "cell_type": "code",
   "execution_count": 184,
   "id": "ffbbde73-92f5-4f24-ad02-8c4291fe8e73",
   "metadata": {},
   "outputs": [
    {
     "name": "stdout",
     "output_type": "stream",
     "text": [
      "Overwriting pages/inspect.py\n"
     ]
    }
   ],
   "source": [
    "%%writefile pages/inspect.py\n",
    "import streamlit as st\n",
    "import altair as alt\n",
    "from corona_viz.plotting import CoronaPlot\n",
    "from corona_viz.nextclade import Nextclade\n",
    "\n",
    "def app():\n",
    "    nextclade = Nextclade()\n",
    "    corona = CoronaPlot(nextclade.QUERY, nextclade.REF, 'mutations.csv')\n",
    "    df = nextclade.make_meta_df()\n",
    "    name = df.seqName.values[0]\n",
    "    \n",
    "    st.markdown(f'### Inspect mutations in {name}')\n",
    "    inspect = corona.plot_mutations_inspection()\n",
    "    st.altair_chart(inspect)"
   ]
  },
  {
   "cell_type": "code",
   "execution_count": 185,
   "id": "2b86456d-df70-45f5-b41c-ec1b462312d7",
   "metadata": {},
   "outputs": [
    {
     "name": "stdout",
     "output_type": "stream",
     "text": [
      "Overwriting pages/alignment.py\n"
     ]
    }
   ],
   "source": [
    "%%writefile pages/alignment.py\n",
    "import streamlit as st\n",
    "import altair as alt\n",
    "from corona_viz.plotting import CoronaPlot\n",
    "from corona_viz.nextclade import Nextclade\n",
    "\n",
    "# Make the gene map above the smaller graph. Use position and a mark_rect with a heigth to plot the genes.\n",
    "\n",
    "def app():\n",
    "    nextclade = Nextclade()\n",
    "    corona = CoronaPlot(nextclade.QUERY, nextclade.REF, 'mutations.csv')\n",
    "    df = nextclade.make_meta_df()\n",
    "    name = df.seqName.values[0]\n",
    "    \n",
    "    st.markdown(f'### Alignment of {name}')\n",
    "    a, b = corona.plot_alignment_map()\n",
    "    st.altair_chart((a & b))"
   ]
  },
  {
   "cell_type": "code",
   "execution_count": 263,
   "id": "dbbd7fc2-9eb6-4829-bc07-3b0b0195dbb6",
   "metadata": {},
   "outputs": [
    {
     "name": "stdout",
     "output_type": "stream",
     "text": [
      "Overwriting pages/heatmap.py\n"
     ]
    }
   ],
   "source": [
    "%%writefile pages/heatmap.py\n",
    "import streamlit as st\n",
    "import altair as alt\n",
    "from corona_viz.plotting import CoronaPlot\n",
    "from corona_viz.nextclade import Nextclade\n",
    "\n",
    "# Cluster the heatmap in another way\n",
    "\n",
    "def app():\n",
    "    nextclade = Nextclade()\n",
    "    corona = CoronaPlot(nextclade.QUERY, nextclade.REF, 'mutations.csv')\n",
    "    \n",
    "    st.markdown('### Heatmap of mutations in all lineages')\n",
    "    heatmap = corona.plot_mutation_heatmap()\n",
    "    st.altair_chart(heatmap)\n",
    "    "
   ]
  },
  {
   "cell_type": "code",
   "execution_count": 181,
   "id": "8d02cc55-4f09-4aaa-9515-61e021de3bfc",
   "metadata": {},
   "outputs": [
    {
     "name": "stdout",
     "output_type": "stream",
     "text": [
      "Overwriting pages/info.py\n"
     ]
    }
   ],
   "source": [
    "%%writefile pages/info.py\n",
    "import streamlit as st\n",
    "from corona_viz.nextclade import Nextclade\n",
    "\n",
    "def app():\n",
    "    nextclade = Nextclade()\n",
    "    df = nextclade.make_meta_df()\n",
    "    pango = df.Nextclade_pango.values[0]\n",
    "    clade = df.clade.values[0]\n",
    "    overall = df['qc.overallStatus'].values[0].title()\n",
    "    missing = df['qc.missingData.totalMissing'].values[0]\n",
    "    substitutions = df['totalSubstitutions'].values[0]\n",
    "    deletions = df['totalDeletions'].values[0]\n",
    "    amino_sub = df['totalAminoacidSubstitutions'].values[0]\n",
    "    amino_del = df['totalAminoacidDeletions'].values[0]\n",
    "    reversion = str(df['privateNucMutations.reversionSubstitutions'].values[0]).split(',')\n",
    "    labeled = str(df['privateNucMutations.labeledSubstitutions'].values[0]).split(',')\n",
    "    unlabeled = str(df['privateNucMutations.unlabeledSubstitutions'].values[0]).split(',')\n",
    "\n",
    "    st.markdown(f'### {df.seqName.values[0]}')\n",
    "    st.markdown(\"\"\"---\"\"\")\n",
    "\n",
    "    col1, col2 = st.columns(2)\n",
    "    \n",
    "    col1.metric('Clade', f'{clade}')\n",
    "    col2.metric('Pangolin', f'{pango}')\n",
    "    \n",
    "    col1.metric('Alignment score', f'{overall}')\n",
    "    col2.metric('Missing nucleotides', f'{missing}')\n",
    "    \n",
    "    col1.metric('Total nt substitutions', f'{substitutions}')\n",
    "    col2.metric('Total nt deletions', f'{deletions}')\n",
    "    \n",
    "    col1.metric('Total AA substitutions', f'{amino_sub}')\n",
    "    col2.metric('Total AA deletions', f'{amino_del}')\n",
    "    \n",
    "    col1, col2, col3 = st.columns(3)\n",
    "    col1.markdown('##### Reversion mutations')\n",
    "    [col1.markdown(x) for x in reversion]\n",
    "    col2.markdown('##### Labeled mutations')\n",
    "    [col2.markdown(x) for x in labeled]\n",
    "    col3.markdown('##### Novel mutations')\n",
    "    [col3.markdown(x) for x in unlabeled]\n",
    "\n",
    "    st.markdown(\"\"\"---\"\"\")\n",
    "\n"
   ]
  },
  {
   "cell_type": "code",
   "execution_count": 260,
   "id": "5b99c6c4-8717-44b7-bf7c-52d2c537b5b3",
   "metadata": {
    "tags": []
   },
   "outputs": [
    {
     "data": {
      "image/png": "[encoded data removed]",
      "text/plain": [
       "<Figure size 1080x1080 with 1 Axes>"
      ]
     },
     "metadata": {
      "needs_background": "light"
     },
     "output_type": "display_data"
    }
   ],
   "source": [
    "import pandas as pd\n",
    "import numpy as np\n",
    "\n",
    "mutations = pd.read_csv('mutations.csv')\n",
    "mutations['present'] = np.ceil(mutations['ratio'])\n",
    "mutations_wide = mutations.pivot(index='pango', columns='mutation', values='present')\n",
    "mutations_wide.fillna(0, inplace=True)\n",
    "mutations_wide.reset_index(inplace=True)\n",
    "df = mutations_wide.iloc[:, 1:]\n",
    "\n",
    "from scipy.cluster.hierarchy import linkage, dendrogram \n",
    "from matplotlib import pyplot as plt\n",
    "\n",
    "linked = linkage(df.to_numpy(), method='ward', metric='euclidean', optimal_ordering=True)\n",
    "\n",
    "plt.figure(figsize=(15, 15))\n",
    "\n",
    "fig = dendrogram(linked,\n",
    "            orientation='left',\n",
    "            distance_sort='descending',\n",
    "            show_leaf_counts=True,\n",
    "           labels=list(mutations_wide.pango))\n"
   ]
  },
  {
   "cell_type": "code",
   "execution_count": null,
   "id": "84e8dab1-326c-484c-b147-e345526614d2",
   "metadata": {},
   "outputs": [],
   "source": [
    "import pandas as pd\n",
    "import numpy as np\n",
    "import dash_bio as dashbio\n",
    "\n",
    "mutations = pd.read_csv('mutations.csv')\n",
    "mutations['present'] = np.ceil(mutations['ratio'])\n",
    "mutations_wide = mutations.pivot(index='pango', columns='mutation', values='present')\n",
    "mutations_wide.fillna(0, inplace=True)\n",
    "mutations_wide.reset_index(inplace=True)\n",
    "df = mutations_wide.iloc[:, 1:]\n",
    "\n",
    "columns = list(df.columns.values)\n",
    "rows = list(df.index)\n",
    "\n",
    "clustergram = dashbio.Clustergram(\n",
    "data=df.loc[rows].values,\n",
    "row_labels=rows,\n",
    "column_labels=columns,\n",
    "color_threshold={\n",
    "    'row': 250,\n",
    "    'col': 700\n",
    "},\n",
    "height=800,\n",
    "width=700,\n",
    "hidden_labels='row'\n",
    ")\n",
    "\n",
    "st.plotly_chart(clustergram)"
   ]
  }
 ],
 "metadata": {
  "kernelspec": {
   "display_name": "Python 3 (ipykernel)",
   "language": "python",
   "name": "python3"
  },
  "language_info": {
   "codemirror_mode": {
    "name": "ipython",
    "version": 3
   },
   "file_extension": ".py",
   "mimetype": "text/x-python",
   "name": "python",
   "nbconvert_exporter": "python",
   "pygments_lexer": "ipython3",
   "version": "3.10.2"
  }
 },
 "nbformat": 4,
 "nbformat_minor": 5
}

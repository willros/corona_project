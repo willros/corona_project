{
 "cells": [
  {
   "cell_type": "code",
   "execution_count": 1,
   "id": "45e76f3b-d7fa-47bf-83a3-82a24f757188",
   "metadata": {},
   "outputs": [],
   "source": [
    "from classes.plotting import CoronaPlot"
   ]
  },
  {
   "cell_type": "code",
   "execution_count": 2,
   "id": "45bead84-6371-4772-b560-9992924063e7",
   "metadata": {},
   "outputs": [],
   "source": [
    "test = CoronaPlot('output/nextclade.aligned.fasta', \n",
    "                       'data/sars-cov-2/reference.fasta', \n",
    "                       'mutations.csv')"
   ]
  },
  {
   "cell_type": "code",
   "execution_count": null,
   "id": "8fb20085-9b8a-4076-aa42-d64d64ab8985",
   "metadata": {},
   "outputs": [],
   "source": []
  }
 ],
 "metadata": {
  "kernelspec": {
   "display_name": "Python 3 (ipykernel)",
   "language": "python",
   "name": "python3"
  },
  "language_info": {
   "codemirror_mode": {
    "name": "ipython",
    "version": 3
   },
   "file_extension": ".py",
   "mimetype": "text/x-python",
   "name": "python",
   "nbconvert_exporter": "python",
   "pygments_lexer": "ipython3",
   "version": "3.10.2"
  }
 },
 "nbformat": 4,
 "nbformat_minor": 5
}

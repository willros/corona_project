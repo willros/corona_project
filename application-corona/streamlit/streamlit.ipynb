{
 "cells": [
  {
   "cell_type": "code",
   "execution_count": 76,
   "id": "fbbc265e-aa11-4daf-84c1-eff47fee29ec",
   "metadata": {},
   "outputs": [
    {
     "name": "stdout",
     "output_type": "stream",
     "text": [
      "Overwriting app.py\n"
     ]
    }
   ],
   "source": [
    "%%writefile app.py\n",
    "import streamlit as st\n",
    "from Bio import SeqIO\n",
    "import shutil\n",
    "import os\n",
    "import time\n",
    "from corona_viz.plotting import CoronaPlot\n",
    "from corona_viz.nextclade import Nextclade\n",
    "\n",
    "st.markdown('*RUN NEXTCLADE*')\n",
    "fasta = st.sidebar.file_uploader(\"FASTA file to run Nextclade on\")\n",
    "if fasta is None:\n",
    "    st.write('**Upload fasta file with sequence**')\n",
    "    \n",
    "    \n",
    "else:\n",
    "    with open('input.fasta', 'w+') as f:\n",
    "        print(fasta.read().decode(), file=f)\n",
    "\n",
    "    nextclade = Nextclade()\n",
    "    nextclade.run_nextclade()\n",
    "    nextclade.make_meta_df()\n",
    "    st.write(nextclade.meta_df)\n",
    "    #time.sleep(30)\n",
    "    #shutil.rmtree(nextclade.OUTDIR)\n",
    "    #os.remove('input.fasta')\n",
    "    corona = CoronaPlot(nextclade.QUERY, nextclade.REF, 'mutations.csv')\n",
    "\n",
    "\n",
    "    st.markdown('**COMPARE**')\n",
    "    compare_to = corona.dataframes.make_mutations_df()\n",
    "    pango = st.selectbox('Select pango lineage to compare with', compare_to['pango'].unique())\n",
    "    st.markdown(\"***\")\n",
    "    compare_plot = corona.plot_compare(pango)\n",
    "    st.altair_chart(compare_plot)\n",
    "    st.markdown(\"***\")\n",
    "\n",
    "    st.markdown('*INSPECTION*')\n",
    "    inspect = corona.plot_mutations_inspection()\n",
    "    st.altair_chart(inspect)\n",
    "\n",
    "    st.markdown('*HEATMAP*')\n",
    "    heatmap = corona.plot_mutation_heatmap()\n",
    "    st.altair_chart(heatmap)\n",
    "    \n",
    "    st.markdown('**ALIGNMENT**')\n",
    "    a, b = corona.plot_alignment_map()\n",
    "    st.altair_chart((a & b))"
   ]
  }
 ],
 "metadata": {
  "kernelspec": {
   "display_name": "Python 3 (ipykernel)",
   "language": "python",
   "name": "python3"
  },
  "language_info": {
   "codemirror_mode": {
    "name": "ipython",
    "version": 3
   },
   "file_extension": ".py",
   "mimetype": "text/x-python",
   "name": "python",
   "nbconvert_exporter": "python",
   "pygments_lexer": "ipython3",
   "version": "3.10.2"
  }
 },
 "nbformat": 4,
 "nbformat_minor": 5
}
